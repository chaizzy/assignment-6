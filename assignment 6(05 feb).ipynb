{
 "cells": [
  {
   "cell_type": "markdown",
   "id": "447fe784-204a-4351-8fdb-bb6d756ff503",
   "metadata": {},
   "source": [
    "#ANS 1 \n",
    "\n",
    "\"class\" is  blueprint or a template for creating objects\n",
    "\n",
    "\"object\" is a real world entity , it is an instance of a class "
   ]
  },
  {
   "cell_type": "markdown",
   "id": "7435e272-824d-44a3-a259-aacd10350064",
   "metadata": {},
   "source": [
    "# ANS 2 :\n",
    "PILLARS OF OOPS\n",
    "\n",
    "inheritance ,\n",
    "ploymorphism ,\n",
    "encapsulation ,\n",
    "abstraction "
   ]
  },
  {
   "cell_type": "code",
   "execution_count": 4,
   "id": "e82d980e-7b65-40ca-8734-e816d4aa999e",
   "metadata": {},
   "outputs": [
    {
     "name": "stdout",
     "output_type": "stream",
     "text": [
      "my branch is : IT\n"
     ]
    }
   ],
   "source": [
    "# ANS 3 :\n",
    "# \"init()\" function is used to , let class intialize the objects . It works within the class\n",
    "# for example\n",
    "class branch:\n",
    "    def __init__(self,branch1):\n",
    "        self.branch1 = branch1\n",
    "    def branch_name(self):\n",
    "        print(\"my branch is :\", self.branch1)\n",
    "a = branch(\"IT\")\n",
    "a.branch_name()"
   ]
  },
  {
   "cell_type": "markdown",
   "id": "d4ec81c5-5220-4e73-a874-b61a6bcaa374",
   "metadata": {},
   "source": [
    "# ANS 4\n",
    "# \" self \" is used to bind the attributes and objects  to the classes , so that we can access the attributes and objects within the class"
   ]
  },
  {
   "cell_type": "markdown",
   "id": "85a15c6e-3776-4f8d-b468-11a4e1664ab2",
   "metadata": {},
   "source": [
    "# ANS 5 :\n",
    "# \"inheritance \" it creates the heirarchy of classes  , where set of properties is used by derived class from the base class"
   ]
  },
  {
   "cell_type": "code",
   "execution_count": null,
   "id": "c36ebc89-3424-4fd4-bb05-d74b6926d075",
   "metadata": {},
   "outputs": [],
   "source": []
  }
 ],
 "metadata": {
  "kernelspec": {
   "display_name": "Python 3 (ipykernel)",
   "language": "python",
   "name": "python3"
  },
  "language_info": {
   "codemirror_mode": {
    "name": "ipython",
    "version": 3
   },
   "file_extension": ".py",
   "mimetype": "text/x-python",
   "name": "python",
   "nbconvert_exporter": "python",
   "pygments_lexer": "ipython3",
   "version": "3.10.8"
  }
 },
 "nbformat": 4,
 "nbformat_minor": 5
}
